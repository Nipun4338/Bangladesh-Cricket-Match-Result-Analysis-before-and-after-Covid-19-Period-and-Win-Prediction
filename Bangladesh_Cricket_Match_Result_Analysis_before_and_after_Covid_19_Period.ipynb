{
  "nbformat": 4,
  "nbformat_minor": 0,
  "metadata": {
    "colab": {
      "name": "Bangladesh Cricket Match Result Analysis before and after Covid-19 Period.ipynb",
      "provenance": [],
      "collapsed_sections": []
    },
    "kernelspec": {
      "name": "python3",
      "display_name": "Python 3"
    },
    "language_info": {
      "name": "python"
    }
  },
  "cells": [
    {
      "cell_type": "markdown",
      "source": [
        "**1. Import and Prepare Dataset**"
      ],
      "metadata": {
        "id": "WbUP5tNqr9Q0"
      }
    },
    {
      "cell_type": "code",
      "execution_count": 224,
      "metadata": {
        "id": "fv2QyT9BSMwO"
      },
      "outputs": [],
      "source": [
        "import numpy as np\n",
        "import pandas as pd\n",
        "import matplotlib.pyplot as plt \n",
        "from matplotlib.ticker import PercentFormatter\n",
        "import seaborn as sns\n",
        "from string import ascii_letters\n",
        "from scipy.stats import pearsonr\n",
        "from matplotlib.backends.backend_tkagg import FigureCanvasTkAgg\n",
        "import tkinter as tk\n",
        "from matplotlib.pyplot import figure\n",
        "import matplotlib.dates as md"
      ]
    },
    {
      "cell_type": "code",
      "source": [
        "b = pd.read_csv(\"Match Dataset.csv\")\n",
        "a=b.copy()\n",
        "a"
      ],
      "metadata": {
        "id": "YDkZLMDzTdko",
        "colab": {
          "base_uri": "https://localhost:8080/",
          "height": 424
        },
        "outputId": "32685658-e5af-4413-fafa-39262c34afda"
      },
      "execution_count": 225,
      "outputs": [
        {
          "output_type": "execute_result",
          "data": {
            "text/html": [
              "\n",
              "  <div id=\"df-62c82a85-40da-49a2-b23b-7b35d1e4c657\">\n",
              "    <div class=\"colab-df-container\">\n",
              "      <div>\n",
              "<style scoped>\n",
              "    .dataframe tbody tr th:only-of-type {\n",
              "        vertical-align: middle;\n",
              "    }\n",
              "\n",
              "    .dataframe tbody tr th {\n",
              "        vertical-align: top;\n",
              "    }\n",
              "\n",
              "    .dataframe thead th {\n",
              "        text-align: right;\n",
              "    }\n",
              "</style>\n",
              "<table border=\"1\" class=\"dataframe\">\n",
              "  <thead>\n",
              "    <tr style=\"text-align: right;\">\n",
              "      <th></th>\n",
              "      <th>Winner</th>\n",
              "      <th>Result</th>\n",
              "      <th>Margin</th>\n",
              "      <th>BR</th>\n",
              "      <th>Match</th>\n",
              "      <th>Ground</th>\n",
              "      <th>Start Date</th>\n",
              "      <th>Covid</th>\n",
              "    </tr>\n",
              "  </thead>\n",
              "  <tbody>\n",
              "    <tr>\n",
              "      <th>0</th>\n",
              "      <td>Pakistan</td>\n",
              "      <td>won</td>\n",
              "      <td>7 wickets</td>\n",
              "      <td>77.0</td>\n",
              "      <td>ODI : Bangladesh v Pakistan</td>\n",
              "      <td>Moratuwa</td>\n",
              "      <td>31-Mar-86</td>\n",
              "      <td>0</td>\n",
              "    </tr>\n",
              "    <tr>\n",
              "      <th>1</th>\n",
              "      <td>Sri Lanka</td>\n",
              "      <td>won</td>\n",
              "      <td>7 wickets</td>\n",
              "      <td>81.0</td>\n",
              "      <td>ODI : Sri Lanka v Bangladesh</td>\n",
              "      <td>Kandy</td>\n",
              "      <td>2-Apr-86</td>\n",
              "      <td>0</td>\n",
              "    </tr>\n",
              "    <tr>\n",
              "      <th>2</th>\n",
              "      <td>India</td>\n",
              "      <td>won</td>\n",
              "      <td>9 wickets</td>\n",
              "      <td>114.0</td>\n",
              "      <td>ODI : Bangladesh v India</td>\n",
              "      <td>Chattogram</td>\n",
              "      <td>27-Oct-88</td>\n",
              "      <td>0</td>\n",
              "    </tr>\n",
              "    <tr>\n",
              "      <th>3</th>\n",
              "      <td>Pakistan</td>\n",
              "      <td>won</td>\n",
              "      <td>173 runs</td>\n",
              "      <td>NaN</td>\n",
              "      <td>ODI : Bangladesh v Pakistan</td>\n",
              "      <td>Chattogram</td>\n",
              "      <td>29-Oct-88</td>\n",
              "      <td>0</td>\n",
              "    </tr>\n",
              "    <tr>\n",
              "      <th>4</th>\n",
              "      <td>Sri Lanka</td>\n",
              "      <td>won</td>\n",
              "      <td>9 wickets</td>\n",
              "      <td>85.0</td>\n",
              "      <td>ODI : Bangladesh v Sri Lanka</td>\n",
              "      <td>Dhaka</td>\n",
              "      <td>2-Nov-88</td>\n",
              "      <td>0</td>\n",
              "    </tr>\n",
              "    <tr>\n",
              "      <th>...</th>\n",
              "      <td>...</td>\n",
              "      <td>...</td>\n",
              "      <td>...</td>\n",
              "      <td>...</td>\n",
              "      <td>...</td>\n",
              "      <td>...</td>\n",
              "      <td>...</td>\n",
              "      <td>...</td>\n",
              "    </tr>\n",
              "    <tr>\n",
              "      <th>612</th>\n",
              "      <td>New Zealand</td>\n",
              "      <td>won</td>\n",
              "      <td>inns &amp; 117 runs</td>\n",
              "      <td>NaN</td>\n",
              "      <td>Test : New Zealand v Bangladesh</td>\n",
              "      <td>Christchurch</td>\n",
              "      <td>9-Jan-22</td>\n",
              "      <td>1</td>\n",
              "    </tr>\n",
              "    <tr>\n",
              "      <th>613</th>\n",
              "      <td>Bangladesh</td>\n",
              "      <td>won</td>\n",
              "      <td>4 wickets</td>\n",
              "      <td>7.0</td>\n",
              "      <td>ODI : Bangladesh v Afghanistan</td>\n",
              "      <td>Chattogram</td>\n",
              "      <td>23-Feb-22</td>\n",
              "      <td>1</td>\n",
              "    </tr>\n",
              "    <tr>\n",
              "      <th>614</th>\n",
              "      <td>Bangladesh</td>\n",
              "      <td>won</td>\n",
              "      <td>88 runs</td>\n",
              "      <td>NaN</td>\n",
              "      <td>ODI : Bangladesh v Afghanistan</td>\n",
              "      <td>Chattogram</td>\n",
              "      <td>25-Feb-22</td>\n",
              "      <td>1</td>\n",
              "    </tr>\n",
              "    <tr>\n",
              "      <th>615</th>\n",
              "      <td>Afghanistan</td>\n",
              "      <td>won</td>\n",
              "      <td>7 wickets</td>\n",
              "      <td>59.0</td>\n",
              "      <td>ODI : Bangladesh v Afghanistan</td>\n",
              "      <td>Chattogram</td>\n",
              "      <td>28-Feb-22</td>\n",
              "      <td>1</td>\n",
              "    </tr>\n",
              "    <tr>\n",
              "      <th>616</th>\n",
              "      <td>Bangladesh</td>\n",
              "      <td>won</td>\n",
              "      <td>61 runs</td>\n",
              "      <td>NaN</td>\n",
              "      <td>T20I : Bangladesh v Afghanistan</td>\n",
              "      <td>Mirpur</td>\n",
              "      <td>3-Mar-22</td>\n",
              "      <td>1</td>\n",
              "    </tr>\n",
              "  </tbody>\n",
              "</table>\n",
              "<p>617 rows × 8 columns</p>\n",
              "</div>\n",
              "      <button class=\"colab-df-convert\" onclick=\"convertToInteractive('df-62c82a85-40da-49a2-b23b-7b35d1e4c657')\"\n",
              "              title=\"Convert this dataframe to an interactive table.\"\n",
              "              style=\"display:none;\">\n",
              "        \n",
              "  <svg xmlns=\"http://www.w3.org/2000/svg\" height=\"24px\"viewBox=\"0 0 24 24\"\n",
              "       width=\"24px\">\n",
              "    <path d=\"M0 0h24v24H0V0z\" fill=\"none\"/>\n",
              "    <path d=\"M18.56 5.44l.94 2.06.94-2.06 2.06-.94-2.06-.94-.94-2.06-.94 2.06-2.06.94zm-11 1L8.5 8.5l.94-2.06 2.06-.94-2.06-.94L8.5 2.5l-.94 2.06-2.06.94zm10 10l.94 2.06.94-2.06 2.06-.94-2.06-.94-.94-2.06-.94 2.06-2.06.94z\"/><path d=\"M17.41 7.96l-1.37-1.37c-.4-.4-.92-.59-1.43-.59-.52 0-1.04.2-1.43.59L10.3 9.45l-7.72 7.72c-.78.78-.78 2.05 0 2.83L4 21.41c.39.39.9.59 1.41.59.51 0 1.02-.2 1.41-.59l7.78-7.78 2.81-2.81c.8-.78.8-2.07 0-2.86zM5.41 20L4 18.59l7.72-7.72 1.47 1.35L5.41 20z\"/>\n",
              "  </svg>\n",
              "      </button>\n",
              "      \n",
              "  <style>\n",
              "    .colab-df-container {\n",
              "      display:flex;\n",
              "      flex-wrap:wrap;\n",
              "      gap: 12px;\n",
              "    }\n",
              "\n",
              "    .colab-df-convert {\n",
              "      background-color: #E8F0FE;\n",
              "      border: none;\n",
              "      border-radius: 50%;\n",
              "      cursor: pointer;\n",
              "      display: none;\n",
              "      fill: #1967D2;\n",
              "      height: 32px;\n",
              "      padding: 0 0 0 0;\n",
              "      width: 32px;\n",
              "    }\n",
              "\n",
              "    .colab-df-convert:hover {\n",
              "      background-color: #E2EBFA;\n",
              "      box-shadow: 0px 1px 2px rgba(60, 64, 67, 0.3), 0px 1px 3px 1px rgba(60, 64, 67, 0.15);\n",
              "      fill: #174EA6;\n",
              "    }\n",
              "\n",
              "    [theme=dark] .colab-df-convert {\n",
              "      background-color: #3B4455;\n",
              "      fill: #D2E3FC;\n",
              "    }\n",
              "\n",
              "    [theme=dark] .colab-df-convert:hover {\n",
              "      background-color: #434B5C;\n",
              "      box-shadow: 0px 1px 3px 1px rgba(0, 0, 0, 0.15);\n",
              "      filter: drop-shadow(0px 1px 2px rgba(0, 0, 0, 0.3));\n",
              "      fill: #FFFFFF;\n",
              "    }\n",
              "  </style>\n",
              "\n",
              "      <script>\n",
              "        const buttonEl =\n",
              "          document.querySelector('#df-62c82a85-40da-49a2-b23b-7b35d1e4c657 button.colab-df-convert');\n",
              "        buttonEl.style.display =\n",
              "          google.colab.kernel.accessAllowed ? 'block' : 'none';\n",
              "\n",
              "        async function convertToInteractive(key) {\n",
              "          const element = document.querySelector('#df-62c82a85-40da-49a2-b23b-7b35d1e4c657');\n",
              "          const dataTable =\n",
              "            await google.colab.kernel.invokeFunction('convertToInteractive',\n",
              "                                                     [key], {});\n",
              "          if (!dataTable) return;\n",
              "\n",
              "          const docLinkHtml = 'Like what you see? Visit the ' +\n",
              "            '<a target=\"_blank\" href=https://colab.research.google.com/notebooks/data_table.ipynb>data table notebook</a>'\n",
              "            + ' to learn more about interactive tables.';\n",
              "          element.innerHTML = '';\n",
              "          dataTable['output_type'] = 'display_data';\n",
              "          await google.colab.output.renderOutput(dataTable, element);\n",
              "          const docLink = document.createElement('div');\n",
              "          docLink.innerHTML = docLinkHtml;\n",
              "          element.appendChild(docLink);\n",
              "        }\n",
              "      </script>\n",
              "    </div>\n",
              "  </div>\n",
              "  "
            ],
            "text/plain": [
              "          Winner Result           Margin     BR  \\\n",
              "0       Pakistan    won        7 wickets   77.0   \n",
              "1      Sri Lanka    won        7 wickets   81.0   \n",
              "2          India    won        9 wickets  114.0   \n",
              "3       Pakistan    won         173 runs    NaN   \n",
              "4      Sri Lanka    won        9 wickets   85.0   \n",
              "..           ...    ...              ...    ...   \n",
              "612  New Zealand    won  inns & 117 runs    NaN   \n",
              "613   Bangladesh    won        4 wickets    7.0   \n",
              "614   Bangladesh    won          88 runs    NaN   \n",
              "615  Afghanistan    won        7 wickets   59.0   \n",
              "616   Bangladesh    won          61 runs    NaN   \n",
              "\n",
              "                               Match        Ground Start Date  Covid  \n",
              "0        ODI : Bangladesh v Pakistan      Moratuwa  31-Mar-86      0  \n",
              "1       ODI : Sri Lanka v Bangladesh         Kandy   2-Apr-86      0  \n",
              "2           ODI : Bangladesh v India    Chattogram  27-Oct-88      0  \n",
              "3        ODI : Bangladesh v Pakistan    Chattogram  29-Oct-88      0  \n",
              "4       ODI : Bangladesh v Sri Lanka         Dhaka   2-Nov-88      0  \n",
              "..                               ...           ...        ...    ...  \n",
              "612  Test : New Zealand v Bangladesh  Christchurch   9-Jan-22      1  \n",
              "613   ODI : Bangladesh v Afghanistan    Chattogram  23-Feb-22      1  \n",
              "614   ODI : Bangladesh v Afghanistan    Chattogram  25-Feb-22      1  \n",
              "615   ODI : Bangladesh v Afghanistan    Chattogram  28-Feb-22      1  \n",
              "616  T20I : Bangladesh v Afghanistan        Mirpur   3-Mar-22      1  \n",
              "\n",
              "[617 rows x 8 columns]"
            ]
          },
          "metadata": {},
          "execution_count": 225
        }
      ]
    },
    {
      "cell_type": "code",
      "source": [
        "a=b.copy()\n",
        "#replace nan with -1 to indicate bowling victory\n",
        "a[0:][3:].fillna( -1, inplace = True) \n",
        "\n",
        "#Reveal opponent team name and set match type\n",
        "a['Match_Type']=a['Match']\n",
        "a['Match_Type'] = a['Match_Type'].str[:4]\n",
        "a['Match'] = a['Match'].str[6:]\n",
        "a['Match'] = a['Match'].str.replace('Bangladesh v ', '')\n",
        "a['Match'] = a['Match'].str.replace(' v Bangladesh', '')\n",
        "\n",
        "# Discardinng test matches\n",
        "a=a[(a['Match_Type'] != 'Test')]\n",
        "#reset index\n",
        "a.reset_index(inplace=True)\n",
        "del a[\"index\"]\n",
        "\n",
        "#a['Win_diff'] = a['Margin'].str.replace(' wickets', '')\n",
        "maxRun=[]\n",
        "\n",
        "for index, i in enumerate(a['Margin']):\n",
        "  if \" wickets\" in i:\n",
        "    temp=float(i.replace(' wickets', ''))\n",
        "    temp=temp/10;\n",
        "    a[\"Margin\"].at[index]=str(temp)\n",
        "  else:\n",
        "    temp=float(i.replace(' runs', ''))\n",
        "    maxRun.append(temp)\n",
        "max1=max(maxRun)\n",
        "\n",
        "for index, i in enumerate(a['Margin']):\n",
        "  if \" runs\" in i:\n",
        "    temp=float(i.replace(' runs', ''))\n",
        "    temp=temp/max1\n",
        "    a[\"Margin\"].at[index]=str('%.2f'%temp)\n",
        "\n",
        "a[\"Win\"]=\"\"\n",
        "for index, i in enumerate(a['Winner']):\n",
        "  if \"Bangladesh\" in i:\n",
        "    a[\"Win\"].at[index]=1\n",
        "  else:\n",
        "    a[\"Win\"].at[index]=0\n",
        "\n",
        "a[\"Margin\"]=pd.to_numeric(a[\"Margin\"], errors='coerce')\n",
        "a[\"Win\"]=pd.to_numeric(a[\"Win\"], errors='coerce')\n",
        "before_covid=a[:459].copy()\n",
        "before_covid.tail\n",
        "#a['Margin'] = a['Margin'].str.replace(' runs', '')"
      ],
      "metadata": {
        "colab": {
          "base_uri": "https://localhost:8080/"
        },
        "id": "EkKHYGFIY8aR",
        "outputId": "dbfffda3-6d83-4fd4-b52d-46a51e58f83c"
      },
      "execution_count": 226,
      "outputs": [
        {
          "output_type": "execute_result",
          "data": {
            "text/plain": [
              "<bound method NDFrame.tail of          Winner Result  Margin     BR      Match      Ground Start Date  \\\n",
              "0      Pakistan    won    0.70   77.0   Pakistan    Moratuwa  31-Mar-86   \n",
              "1     Sri Lanka    won    0.70   81.0  Sri Lanka       Kandy   2-Apr-86   \n",
              "2         India    won    0.90  114.0      India  Chattogram  27-Oct-88   \n",
              "3      Pakistan    won    0.74   -1.0   Pakistan  Chattogram  29-Oct-88   \n",
              "4     Sri Lanka    won    0.90   85.0  Sri Lanka       Dhaka   2-Nov-88   \n",
              "..          ...    ...     ...    ...        ...         ...        ...   \n",
              "454       India    won    0.80   26.0      India      Rajkot   7-Nov-19   \n",
              "455       India    won    0.13   -1.0      India      Nagpur  10-Nov-19   \n",
              "456    Pakistan    won    0.50    3.0   Pakistan      Lahore  24-Jan-20   \n",
              "457    Pakistan    won    0.90   20.0   Pakistan      Lahore  25-Jan-20   \n",
              "458  Bangladesh    won    0.73   -1.0   Zimbabwe      Sylhet   1-Mar-20   \n",
              "\n",
              "     Covid Match_Type  Win  \n",
              "0        0       ODI     0  \n",
              "1        0       ODI     0  \n",
              "2        0       ODI     0  \n",
              "3        0       ODI     0  \n",
              "4        0       ODI     0  \n",
              "..     ...        ...  ...  \n",
              "454      0       T20I    0  \n",
              "455      0       T20I    0  \n",
              "456      0       T20I    0  \n",
              "457      0       T20I    0  \n",
              "458      0       ODI     1  \n",
              "\n",
              "[459 rows x 10 columns]>"
            ]
          },
          "metadata": {},
          "execution_count": 226
        }
      ]
    },
    {
      "cell_type": "code",
      "source": [
        "unique_values = pd.unique(b[[\"Winner\"]].values.ravel())\n",
        "unique_values"
      ],
      "metadata": {
        "colab": {
          "base_uri": "https://localhost:8080/"
        },
        "id": "m4JIi1HAYd5g",
        "outputId": "50fea300-33df-4674-ed9d-ec58b0790810"
      },
      "execution_count": 227,
      "outputs": [
        {
          "output_type": "execute_result",
          "data": {
            "text/plain": [
              "array(['Pakistan', 'Sri Lanka', 'India', 'New Zealand', 'Australia',\n",
              "       'Kenya', 'Zimbabwe', 'Bangladesh', 'West Indies', 'England',\n",
              "       'South Africa', 'Canada', 'Ireland', 'Netherlands', 'Scotland',\n",
              "       'Afghanistan', 'Hong Kong'], dtype=object)"
            ]
          },
          "metadata": {},
          "execution_count": 227
        }
      ]
    },
    {
      "cell_type": "code",
      "source": [
        "#reset index\n",
        "def reset(a):\n",
        "  a.reset_index(inplace=True)\n",
        "  del a[\"index\"]\n",
        "reset(a)"
      ],
      "metadata": {
        "id": "VIl1BydWXHws"
      },
      "execution_count": 228,
      "outputs": []
    },
    {
      "cell_type": "code",
      "source": [
        "#Label Encode\n",
        "# Import LabelEncoder\n",
        "from sklearn import preprocessing\n",
        "#creating labelEncoder\n",
        "le = preprocessing.LabelEncoder()\n",
        "\n",
        "a['Winner']=le.fit_transform(a['Winner'])\n",
        "a['Ground']=le.fit_transform(a['Ground'])\n",
        "\n",
        "a"
      ],
      "metadata": {
        "colab": {
          "base_uri": "https://localhost:8080/",
          "height": 424
        },
        "id": "emDLM3xq1JVF",
        "outputId": "815419cd-b4bc-46c0-dfe4-4fce69e4b3ba"
      },
      "execution_count": 229,
      "outputs": [
        {
          "output_type": "execute_result",
          "data": {
            "text/html": [
              "\n",
              "  <div id=\"df-19f5b2cb-520b-4bbd-8089-1436a3cb156a\">\n",
              "    <div class=\"colab-df-container\">\n",
              "      <div>\n",
              "<style scoped>\n",
              "    .dataframe tbody tr th:only-of-type {\n",
              "        vertical-align: middle;\n",
              "    }\n",
              "\n",
              "    .dataframe tbody tr th {\n",
              "        vertical-align: top;\n",
              "    }\n",
              "\n",
              "    .dataframe thead th {\n",
              "        text-align: right;\n",
              "    }\n",
              "</style>\n",
              "<table border=\"1\" class=\"dataframe\">\n",
              "  <thead>\n",
              "    <tr style=\"text-align: right;\">\n",
              "      <th></th>\n",
              "      <th>Winner</th>\n",
              "      <th>Result</th>\n",
              "      <th>Margin</th>\n",
              "      <th>BR</th>\n",
              "      <th>Match</th>\n",
              "      <th>Ground</th>\n",
              "      <th>Start Date</th>\n",
              "      <th>Covid</th>\n",
              "      <th>Match_Type</th>\n",
              "      <th>Win</th>\n",
              "    </tr>\n",
              "  </thead>\n",
              "  <tbody>\n",
              "    <tr>\n",
              "      <th>0</th>\n",
              "      <td>11</td>\n",
              "      <td>won</td>\n",
              "      <td>0.70</td>\n",
              "      <td>77.0</td>\n",
              "      <td>Pakistan</td>\n",
              "      <td>65</td>\n",
              "      <td>31-Mar-86</td>\n",
              "      <td>0</td>\n",
              "      <td>ODI</td>\n",
              "      <td>0</td>\n",
              "    </tr>\n",
              "    <tr>\n",
              "      <th>1</th>\n",
              "      <td>14</td>\n",
              "      <td>won</td>\n",
              "      <td>0.70</td>\n",
              "      <td>81.0</td>\n",
              "      <td>Sri Lanka</td>\n",
              "      <td>51</td>\n",
              "      <td>2-Apr-86</td>\n",
              "      <td>0</td>\n",
              "      <td>ODI</td>\n",
              "      <td>0</td>\n",
              "    </tr>\n",
              "    <tr>\n",
              "      <th>2</th>\n",
              "      <td>6</td>\n",
              "      <td>won</td>\n",
              "      <td>0.90</td>\n",
              "      <td>114.0</td>\n",
              "      <td>India</td>\n",
              "      <td>20</td>\n",
              "      <td>27-Oct-88</td>\n",
              "      <td>0</td>\n",
              "      <td>ODI</td>\n",
              "      <td>0</td>\n",
              "    </tr>\n",
              "    <tr>\n",
              "      <th>3</th>\n",
              "      <td>11</td>\n",
              "      <td>won</td>\n",
              "      <td>0.74</td>\n",
              "      <td>-1.0</td>\n",
              "      <td>Pakistan</td>\n",
              "      <td>20</td>\n",
              "      <td>29-Oct-88</td>\n",
              "      <td>0</td>\n",
              "      <td>ODI</td>\n",
              "      <td>0</td>\n",
              "    </tr>\n",
              "    <tr>\n",
              "      <th>4</th>\n",
              "      <td>14</td>\n",
              "      <td>won</td>\n",
              "      <td>0.90</td>\n",
              "      <td>85.0</td>\n",
              "      <td>Sri Lanka</td>\n",
              "      <td>32</td>\n",
              "      <td>2-Nov-88</td>\n",
              "      <td>0</td>\n",
              "      <td>ODI</td>\n",
              "      <td>0</td>\n",
              "    </tr>\n",
              "    <tr>\n",
              "      <th>...</th>\n",
              "      <td>...</td>\n",
              "      <td>...</td>\n",
              "      <td>...</td>\n",
              "      <td>...</td>\n",
              "      <td>...</td>\n",
              "      <td>...</td>\n",
              "      <td>...</td>\n",
              "      <td>...</td>\n",
              "      <td>...</td>\n",
              "      <td>...</td>\n",
              "    </tr>\n",
              "    <tr>\n",
              "      <th>501</th>\n",
              "      <td>11</td>\n",
              "      <td>won</td>\n",
              "      <td>0.50</td>\n",
              "      <td>0.0</td>\n",
              "      <td>Pakistan</td>\n",
              "      <td>63</td>\n",
              "      <td>22-Nov-21</td>\n",
              "      <td>1</td>\n",
              "      <td>T20I</td>\n",
              "      <td>0</td>\n",
              "    </tr>\n",
              "    <tr>\n",
              "      <th>502</th>\n",
              "      <td>2</td>\n",
              "      <td>won</td>\n",
              "      <td>0.40</td>\n",
              "      <td>7.0</td>\n",
              "      <td>Afghanistan</td>\n",
              "      <td>20</td>\n",
              "      <td>23-Feb-22</td>\n",
              "      <td>1</td>\n",
              "      <td>ODI</td>\n",
              "      <td>1</td>\n",
              "    </tr>\n",
              "    <tr>\n",
              "      <th>503</th>\n",
              "      <td>2</td>\n",
              "      <td>won</td>\n",
              "      <td>0.38</td>\n",
              "      <td>-1.0</td>\n",
              "      <td>Afghanistan</td>\n",
              "      <td>20</td>\n",
              "      <td>25-Feb-22</td>\n",
              "      <td>1</td>\n",
              "      <td>ODI</td>\n",
              "      <td>1</td>\n",
              "    </tr>\n",
              "    <tr>\n",
              "      <th>504</th>\n",
              "      <td>0</td>\n",
              "      <td>won</td>\n",
              "      <td>0.70</td>\n",
              "      <td>59.0</td>\n",
              "      <td>Afghanistan</td>\n",
              "      <td>20</td>\n",
              "      <td>28-Feb-22</td>\n",
              "      <td>1</td>\n",
              "      <td>ODI</td>\n",
              "      <td>0</td>\n",
              "    </tr>\n",
              "    <tr>\n",
              "      <th>505</th>\n",
              "      <td>2</td>\n",
              "      <td>won</td>\n",
              "      <td>0.26</td>\n",
              "      <td>-1.0</td>\n",
              "      <td>Afghanistan</td>\n",
              "      <td>63</td>\n",
              "      <td>3-Mar-22</td>\n",
              "      <td>1</td>\n",
              "      <td>T20I</td>\n",
              "      <td>1</td>\n",
              "    </tr>\n",
              "  </tbody>\n",
              "</table>\n",
              "<p>506 rows × 10 columns</p>\n",
              "</div>\n",
              "      <button class=\"colab-df-convert\" onclick=\"convertToInteractive('df-19f5b2cb-520b-4bbd-8089-1436a3cb156a')\"\n",
              "              title=\"Convert this dataframe to an interactive table.\"\n",
              "              style=\"display:none;\">\n",
              "        \n",
              "  <svg xmlns=\"http://www.w3.org/2000/svg\" height=\"24px\"viewBox=\"0 0 24 24\"\n",
              "       width=\"24px\">\n",
              "    <path d=\"M0 0h24v24H0V0z\" fill=\"none\"/>\n",
              "    <path d=\"M18.56 5.44l.94 2.06.94-2.06 2.06-.94-2.06-.94-.94-2.06-.94 2.06-2.06.94zm-11 1L8.5 8.5l.94-2.06 2.06-.94-2.06-.94L8.5 2.5l-.94 2.06-2.06.94zm10 10l.94 2.06.94-2.06 2.06-.94-2.06-.94-.94-2.06-.94 2.06-2.06.94z\"/><path d=\"M17.41 7.96l-1.37-1.37c-.4-.4-.92-.59-1.43-.59-.52 0-1.04.2-1.43.59L10.3 9.45l-7.72 7.72c-.78.78-.78 2.05 0 2.83L4 21.41c.39.39.9.59 1.41.59.51 0 1.02-.2 1.41-.59l7.78-7.78 2.81-2.81c.8-.78.8-2.07 0-2.86zM5.41 20L4 18.59l7.72-7.72 1.47 1.35L5.41 20z\"/>\n",
              "  </svg>\n",
              "      </button>\n",
              "      \n",
              "  <style>\n",
              "    .colab-df-container {\n",
              "      display:flex;\n",
              "      flex-wrap:wrap;\n",
              "      gap: 12px;\n",
              "    }\n",
              "\n",
              "    .colab-df-convert {\n",
              "      background-color: #E8F0FE;\n",
              "      border: none;\n",
              "      border-radius: 50%;\n",
              "      cursor: pointer;\n",
              "      display: none;\n",
              "      fill: #1967D2;\n",
              "      height: 32px;\n",
              "      padding: 0 0 0 0;\n",
              "      width: 32px;\n",
              "    }\n",
              "\n",
              "    .colab-df-convert:hover {\n",
              "      background-color: #E2EBFA;\n",
              "      box-shadow: 0px 1px 2px rgba(60, 64, 67, 0.3), 0px 1px 3px 1px rgba(60, 64, 67, 0.15);\n",
              "      fill: #174EA6;\n",
              "    }\n",
              "\n",
              "    [theme=dark] .colab-df-convert {\n",
              "      background-color: #3B4455;\n",
              "      fill: #D2E3FC;\n",
              "    }\n",
              "\n",
              "    [theme=dark] .colab-df-convert:hover {\n",
              "      background-color: #434B5C;\n",
              "      box-shadow: 0px 1px 3px 1px rgba(0, 0, 0, 0.15);\n",
              "      filter: drop-shadow(0px 1px 2px rgba(0, 0, 0, 0.3));\n",
              "      fill: #FFFFFF;\n",
              "    }\n",
              "  </style>\n",
              "\n",
              "      <script>\n",
              "        const buttonEl =\n",
              "          document.querySelector('#df-19f5b2cb-520b-4bbd-8089-1436a3cb156a button.colab-df-convert');\n",
              "        buttonEl.style.display =\n",
              "          google.colab.kernel.accessAllowed ? 'block' : 'none';\n",
              "\n",
              "        async function convertToInteractive(key) {\n",
              "          const element = document.querySelector('#df-19f5b2cb-520b-4bbd-8089-1436a3cb156a');\n",
              "          const dataTable =\n",
              "            await google.colab.kernel.invokeFunction('convertToInteractive',\n",
              "                                                     [key], {});\n",
              "          if (!dataTable) return;\n",
              "\n",
              "          const docLinkHtml = 'Like what you see? Visit the ' +\n",
              "            '<a target=\"_blank\" href=https://colab.research.google.com/notebooks/data_table.ipynb>data table notebook</a>'\n",
              "            + ' to learn more about interactive tables.';\n",
              "          element.innerHTML = '';\n",
              "          dataTable['output_type'] = 'display_data';\n",
              "          await google.colab.output.renderOutput(dataTable, element);\n",
              "          const docLink = document.createElement('div');\n",
              "          docLink.innerHTML = docLinkHtml;\n",
              "          element.appendChild(docLink);\n",
              "        }\n",
              "      </script>\n",
              "    </div>\n",
              "  </div>\n",
              "  "
            ],
            "text/plain": [
              "     Winner Result  Margin     BR         Match  Ground Start Date  Covid  \\\n",
              "0        11    won    0.70   77.0      Pakistan      65  31-Mar-86      0   \n",
              "1        14    won    0.70   81.0     Sri Lanka      51   2-Apr-86      0   \n",
              "2         6    won    0.90  114.0         India      20  27-Oct-88      0   \n",
              "3        11    won    0.74   -1.0      Pakistan      20  29-Oct-88      0   \n",
              "4        14    won    0.90   85.0     Sri Lanka      32   2-Nov-88      0   \n",
              "..      ...    ...     ...    ...           ...     ...        ...    ...   \n",
              "501      11    won    0.50    0.0      Pakistan      63  22-Nov-21      1   \n",
              "502       2    won    0.40    7.0   Afghanistan      20  23-Feb-22      1   \n",
              "503       2    won    0.38   -1.0   Afghanistan      20  25-Feb-22      1   \n",
              "504       0    won    0.70   59.0   Afghanistan      20  28-Feb-22      1   \n",
              "505       2    won    0.26   -1.0   Afghanistan      63   3-Mar-22      1   \n",
              "\n",
              "    Match_Type  Win  \n",
              "0         ODI     0  \n",
              "1         ODI     0  \n",
              "2         ODI     0  \n",
              "3         ODI     0  \n",
              "4         ODI     0  \n",
              "..         ...  ...  \n",
              "501       T20I    0  \n",
              "502       ODI     1  \n",
              "503       ODI     1  \n",
              "504       ODI     0  \n",
              "505       T20I    1  \n",
              "\n",
              "[506 rows x 10 columns]"
            ]
          },
          "metadata": {},
          "execution_count": 229
        }
      ]
    },
    {
      "cell_type": "markdown",
      "source": [
        "**2. Classification Models**\n"
      ],
      "metadata": {
        "id": "toA93R2Ar1OD"
      }
    },
    {
      "cell_type": "code",
      "source": [
        "from sklearn.model_selection import train_test_split\n",
        "\n",
        "feature_cols = ['Winner', 'Margin', 'Ground']\n",
        "X=a[feature_cols]\n",
        "y=a.Win\n",
        "\n",
        "graph=[]\n",
        "\n",
        "# import the metrics class\n",
        "from sklearn import metrics\n",
        "def plot(name, y_test, y_pred):\n",
        "  cnf_matrix = metrics.confusion_matrix(y_test, y_pred)\n",
        "  cnf_matrix\n",
        "\n",
        "  class_names=[0,1] # name  of classes\n",
        "  fig, ax = plt.subplots()\n",
        "  tick_marks = np.arange(len(class_names))\n",
        "  plt.xticks(tick_marks, class_names)\n",
        "  plt.yticks(tick_marks, class_names)\n",
        "  # create heatmap\n",
        "  sns.heatmap(pd.DataFrame(cnf_matrix), annot=True, cmap=\"YlGnBu\" ,fmt='g')\n",
        "  ax.xaxis.set_label_position(\"top\")\n",
        "  plt.tight_layout()\n",
        "  plt.title('Confusion matrix', y=1.1)\n",
        "  plt.ylabel('Actual label')\n",
        "  plt.xlabel('Predicted label')\n",
        "\n",
        "  print(\"Accuracy:\",metrics.accuracy_score(y_test, y_pred))\n",
        "  print(\"Precision:\",metrics.precision_score(y_test, y_pred))\n",
        "  print(\"Recall:\",metrics.recall_score(y_test, y_pred))\n",
        "\n",
        "  graph.append((name, metrics.accuracy_score(y_test, y_pred), metrics.precision_score(y_test, y_pred), metrics.recall_score(y_test, y_pred)))"
      ],
      "metadata": {
        "id": "dZ5tqsrX8Mje"
      },
      "execution_count": 272,
      "outputs": []
    },
    {
      "cell_type": "markdown",
      "source": [
        "\n",
        "\n",
        "> 1. Logistic Regression\n",
        "\n",
        "\n",
        "\n"
      ],
      "metadata": {
        "id": "XQS-A9c0sFJV"
      }
    },
    {
      "cell_type": "code",
      "source": [
        "\n",
        "from sklearn.linear_model import LogisticRegression\n",
        "X_train,X_test,y_train,y_test=train_test_split(X,y,test_size=0.25,random_state=12)\n",
        "logreg = LogisticRegression()\n",
        "# fit the model with data\n",
        "logreg.fit(X_train,y_train)\n",
        "\n",
        "#\n",
        "y_pred=logreg.predict(X_test)\n",
        "plot(\"Logistic Regression\", y_test, y_pred)"
      ],
      "metadata": {
        "colab": {
          "base_uri": "https://localhost:8080/",
          "height": 377
        },
        "id": "1McCcVu4X_Z7",
        "outputId": "0ea8d181-af26-4604-ddde-2f7fd2bf85af"
      },
      "execution_count": 273,
      "outputs": [
        {
          "output_type": "stream",
          "name": "stdout",
          "text": [
            "Accuracy: 0.9212598425196851\n",
            "Precision: 0.7959183673469388\n",
            "Recall: 1.0\n"
          ]
        },
        {
          "output_type": "display_data",
          "data": {
            "image/png": "[encoded data removed]",
            "text/plain": [
              "<Figure size 432x288 with 2 Axes>"
            ]
          },
          "metadata": {
            "needs_background": "light"
          }
        }
      ]
    },
    {
      "cell_type": "markdown",
      "source": [
        "\n",
        "\n",
        "> 2. Naïve Bayes\n",
        "\n",
        "\n",
        "\n"
      ],
      "metadata": {
        "id": "ZCdXoaSD0aBs"
      }
    },
    {
      "cell_type": "code",
      "source": [
        "\n",
        "#Import Gaussian Naive Bayes model\n",
        "from sklearn.naive_bayes import GaussianNB\n",
        "#Create a Gaussian Classifier\n",
        "gnb = GaussianNB()\n",
        "\n",
        "# Split dataset into training set and test set\n",
        "X_train,X_test,y_train,y_test=train_test_split(X,y,test_size=0.25,random_state=100)\n",
        "#Train the model using the training sets\n",
        "gnb.fit(X_train, y_train)\n",
        "\n",
        "#Predict the response for test dataset\n",
        "y_pred = gnb.predict(X_test)\n",
        "\n",
        "plot(\"Naïve Bayes\", y_test, y_pred)"
      ],
      "metadata": {
        "colab": {
          "base_uri": "https://localhost:8080/",
          "height": 377
        },
        "id": "WRcwwM7w0j0d",
        "outputId": "487bf524-4ac6-43ae-b5aa-56e933a121a1"
      },
      "execution_count": 274,
      "outputs": [
        {
          "output_type": "stream",
          "name": "stdout",
          "text": [
            "Accuracy: 1.0\n",
            "Precision: 1.0\n",
            "Recall: 1.0\n"
          ]
        },
        {
          "output_type": "display_data",
          "data": {
            "image/png": "[encoded data removed]",
            "text/plain": [
              "<Figure size 432x288 with 2 Axes>"
            ]
          },
          "metadata": {
            "needs_background": "light"
          }
        }
      ]
    },
    {
      "cell_type": "markdown",
      "source": [
        "\n",
        "\n",
        "> 3. K-Nearest Neighbours\n",
        "\n"
      ],
      "metadata": {
        "id": "Bg1I2X2I4FkR"
      }
    },
    {
      "cell_type": "code",
      "source": [
        "\n",
        "from sklearn.neighbors import KNeighborsClassifier\n",
        "\n",
        "# Split dataset into training set and test set\n",
        "X_train,X_test,y_train,y_test=train_test_split(X,y,test_size=0.25,random_state=109)\n",
        "#Create KNN Classifier\n",
        "knn = KNeighborsClassifier(n_neighbors=2)\n",
        "\n",
        "#Train the model using the training sets\n",
        "knn.fit(X_train, y_train)\n",
        "#Predict the response for test dataset\n",
        "y_pred = knn.predict(X_test)\n",
        "plot(\"K-Nearest Neighbours\", y_test, y_pred)"
      ],
      "metadata": {
        "colab": {
          "base_uri": "https://localhost:8080/",
          "height": 377
        },
        "id": "9w0ftSBl4Ie-",
        "outputId": "ea606cae-1733-4dae-99fc-affd23e0c4f1"
      },
      "execution_count": 275,
      "outputs": [
        {
          "output_type": "stream",
          "name": "stdout",
          "text": [
            "Accuracy: 0.952755905511811\n",
            "Precision: 0.8918918918918919\n",
            "Recall: 0.9428571428571428\n"
          ]
        },
        {
          "output_type": "display_data",
          "data": {
            "image/png": "[encoded data removed]",
            "text/plain": [
              "<Figure size 432x288 with 2 Axes>"
            ]
          },
          "metadata": {
            "needs_background": "light"
          }
        }
      ]
    },
    {
      "cell_type": "markdown",
      "source": [
        "\n",
        "\n",
        "> 4. Support Vector Machine\n",
        "\n"
      ],
      "metadata": {
        "id": "ohkEG2C55N5f"
      }
    },
    {
      "cell_type": "code",
      "source": [
        "\n",
        "#Import svm model\n",
        "from sklearn import svm\n",
        "\n",
        "#Create a svm Classifier\n",
        "clf = svm.SVC(kernel='linear') # Linear Kernel\n",
        "\n",
        "# Split dataset into training set and test set\n",
        "X_train,X_test,y_train,y_test=train_test_split(X,y,test_size=0.25,random_state=109)\n",
        "#Train the model using the training sets\n",
        "clf.fit(X_train, y_train)\n",
        "\n",
        "#Predict the response for test dataset\n",
        "y_pred = clf.predict(X_test)\n",
        "plot(\"Support Vector Machine\", y_test, y_pred)"
      ],
      "metadata": {
        "colab": {
          "base_uri": "https://localhost:8080/",
          "height": 376
        },
        "id": "Apey8FdV5Sbd",
        "outputId": "7a0f3406-1d83-41a5-e528-2d06fd5e1a8a"
      },
      "execution_count": 276,
      "outputs": [
        {
          "output_type": "stream",
          "name": "stdout",
          "text": [
            "Accuracy: 0.9133858267716536\n",
            "Precision: 0.7608695652173914\n",
            "Recall: 1.0\n"
          ]
        },
        {
          "output_type": "display_data",
          "data": {
            "image/png": "[encoded data removed]",
            "text/plain": [
              "<Figure size 432x288 with 2 Axes>"
            ]
          },
          "metadata": {
            "needs_background": "light"
          }
        }
      ]
    },
    {
      "cell_type": "markdown",
      "source": [
        "\n",
        "\n",
        "> 5. Random Forest\n",
        "\n"
      ],
      "metadata": {
        "id": "dqRD3Jkh6BHW"
      }
    },
    {
      "cell_type": "code",
      "source": [
        "\n",
        "#Import Random Forest Model\n",
        "from sklearn.ensemble import RandomForestClassifier\n",
        "\n",
        "# Split dataset into training set and test set\n",
        "X_train, X_test, y_train, y_test = train_test_split(X, y, test_size=0.3) # 70% training and 30% test\n",
        "#Create a Gaussian Classifier\n",
        "clf=RandomForestClassifier(n_estimators=2)\n",
        "\n",
        "#Train the model using the training sets y_pred=clf.predict(X_test)\n",
        "clf.fit(X_train,y_train)\n",
        "\n",
        "# prediction on test set\n",
        "y_pred=clf.predict(X_test)\n",
        "\n",
        "plot(\"Random Forest\", y_test, y_pred)"
      ],
      "metadata": {
        "colab": {
          "base_uri": "https://localhost:8080/",
          "height": 377
        },
        "id": "fXCtDyYB6E3L",
        "outputId": "bf1fbfc4-5209-4bbf-fc7f-4e348e164da3"
      },
      "execution_count": 277,
      "outputs": [
        {
          "output_type": "stream",
          "name": "stdout",
          "text": [
            "Accuracy: 0.993421052631579\n",
            "Precision: 0.9811320754716981\n",
            "Recall: 1.0\n"
          ]
        },
        {
          "output_type": "display_data",
          "data": {
            "image/png": "[encoded data removed]",
            "text/plain": [
              "<Figure size 432x288 with 2 Axes>"
            ]
          },
          "metadata": {
            "needs_background": "light"
          }
        }
      ]
    },
    {
      "cell_type": "code",
      "source": [
        "c=a[0:1].copy()\n",
        "c[\"Winner\"]=int(input(\"Enter Country Code:\"))\n",
        "c[\"Margin\"]=float(input(\"Enter Margin:\"))\n",
        "c[\"Ground\"]=float(input(\"Enter Ground:\"))\n"
      ],
      "metadata": {
        "colab": {
          "base_uri": "https://localhost:8080/"
        },
        "id": "zW4bqDa396op",
        "outputId": "851b99b5-1957-4448-a09f-6eff5008a57b"
      },
      "execution_count": 222,
      "outputs": [
        {
          "name": "stdout",
          "output_type": "stream",
          "text": [
            "Enter Country Code:11\n",
            "Enter Margin:.5\n",
            "Enter Ground:11\n"
          ]
        }
      ]
    },
    {
      "cell_type": "code",
      "source": [
        "graph"
      ],
      "metadata": {
        "colab": {
          "base_uri": "https://localhost:8080/"
        },
        "id": "ik_BhjfSJi3X",
        "outputId": "c37eb55f-bed3-4136-ec8c-33b0b3ba8595"
      },
      "execution_count": 278,
      "outputs": [
        {
          "output_type": "execute_result",
          "data": {
            "text/plain": [
              "[('Logistic Regression', 0.9212598425196851, 0.7959183673469388, 1.0),\n",
              " ('Naïve Bayes', 1.0, 1.0, 1.0),\n",
              " ('K-Nearest Neighbours',\n",
              "  0.952755905511811,\n",
              "  0.8918918918918919,\n",
              "  0.9428571428571428),\n",
              " ('Support Vector Machine', 0.9133858267716536, 0.7608695652173914, 1.0),\n",
              " ('Random Forest', 0.993421052631579, 0.9811320754716981, 1.0)]"
            ]
          },
          "metadata": {},
          "execution_count": 278
        }
      ]
    }
  ]
}